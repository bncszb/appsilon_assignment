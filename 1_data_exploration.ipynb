{
 "cells": [
  {
   "cell_type": "code",
   "execution_count": 52,
   "metadata": {},
   "outputs": [],
   "source": [
    "import os\n",
    "import scipy.io\n",
    "import random\n",
    "import json\n",
    "import matplotlib.pyplot as plt\n",
    "import matplotlib.image as mpimg\n",
    "import numpy as np\n",
    "import tqdm"
   ]
  },
  {
   "cell_type": "markdown",
   "metadata": {},
   "source": [
    "### Readme for dataset:\n",
    "\n",
    "17 Flower Category Database\n",
    "----------------------------------------------\n",
    "This set contains images of flowers belonging to 17 different categories. \n",
    "The images were acquired by searching the web and taking pictures. There are\n",
    "80 images for each category. \n",
    "\n",
    "The database was used in:\n",
    "\n",
    "Nilsback, M-E. and Zisserman, A.  A Visual Vocabulary for Flower Classification.\n",
    "Proceedings of the IEEE Conference on Computer Vision and Pattern Recognition (2006) \n",
    "http://www.robots.ox.ac.uk/~vgg/publications/papers/nilsback06.{pdf,ps.gz}.\n",
    "\n",
    "The datasplits used in this paper are specified in datasplits.mat\n",
    "\n",
    "There are 3 separate splits. The results in the paper are averaged over the 3 splits.\n",
    "Each split has a training file (trn1,trn2,trn3), a validation file (val1, val2, val3)\n",
    "and a testfile (tst1, tst2 or tst3). \n",
    "\n",
    "Segmentation Ground Truth\n",
    "------------------------------------------------\n",
    "The ground truth is given for a subset of the images from 13 different\n",
    "categories. \n",
    "\n",
    "More details can be found in:\n",
    "\n",
    "Nilsback, M-E. and Zisserman, A. Delving into the whorl of flower segmentation.\n",
    "Proceedings of the British Machine Vision Conference (2007)\n",
    "http:www.robots.ox.ac.uk/~vgg/publications/papers/nilsback06.(pdf,ps.gz).\n",
    "\n",
    "The ground truth file also contains the file imlist.mat, which indicated\n",
    "which images in the original database that have been anotated.\n",
    "\n",
    "Distance matrices\n",
    "-----------------------------------------------\n",
    "\n",
    "We provide two set of distance matrices:\n",
    "\n",
    "1. distancematrices17gcfeat06.mat \n",
    "- Distance matrices using the same features and segmentation as detailed in:\n",
    "    Nilsback, M-E. and Zisserman, A.  A Visual Vocabulary for Flower Classification.\n",
    "    Proceedings of the IEEE Conference on Computer Vision and Pattern Recognition(2006)\n",
    "    http://www.robots.ox.ac.uk/~vgg/publications/papers/nilsback06.{pdf,ps.gz}.\n",
    "\n",
    "2. distancematrices17itfeat08.mat\n",
    "- Distance matrices using the same features as described in: \n",
    "    Nilsback, M-E. and Zisserman, A. Automated flower classification over a large number of classes.\n",
    "    Proceedings of the Indian Conference on Computer Vision, Graphics and Image Processing (2008)\n",
    "    http://www.robots.ox.ac.uk/~vgg/publications/papers/nilsback08.{pdf,ps.gz}.\n",
    "  and the iterative segmenation scheme detailed in \n",
    "    Nilsback, M-E. and Zisserman, A. Delving into the whorl of flower segmentation.\n",
    "    Proceedings of the British Machine Vision Conference (2007)\n",
    "    http:www.robots.ox.ac.uk/~vgg/publications/papers/nilsback06.(pdf,ps.gz).\n",
    "  "
   ]
  },
  {
   "cell_type": "code",
   "execution_count": 3,
   "metadata": {},
   "outputs": [
    {
     "name": "stdout",
     "output_type": "stream",
     "text": [
      "1362\n",
      "1360\n"
     ]
    },
    {
     "data": {
      "text/plain": [
       "['image_0001.jpg',\n",
       " 'image_0002.jpg',\n",
       " 'image_0003.jpg',\n",
       " 'image_0004.jpg',\n",
       " 'image_0005.jpg']"
      ]
     },
     "execution_count": 3,
     "metadata": {},
     "output_type": "execute_result"
    }
   ],
   "source": [
    "images_path=\"data/jpg/files.txt\"\n",
    "\n",
    "with open(images_path) as f:\n",
    "    file_names= f.read().splitlines()\n",
    "\n",
    "\n",
    "print(len(os.listdir(\"data/jpg\")))\n",
    "print(len(file_names))\n",
    "file_names[:5]\n"
   ]
  },
  {
   "cell_type": "code",
   "execution_count": 4,
   "metadata": {},
   "outputs": [
    {
     "name": "stdout",
     "output_type": "stream",
     "text": [
      "848\n"
     ]
    },
    {
     "data": {
      "text/plain": [
       "['image_0387.png',\n",
       " 'image_0436.png',\n",
       " 'image_0350.png',\n",
       " 'image_0344.png',\n",
       " 'image_0422.png']"
      ]
     },
     "execution_count": 4,
     "metadata": {},
     "output_type": "execute_result"
    }
   ],
   "source": [
    "sgms_path=\"data/trimaps/\"\n",
    "\n",
    "sgm_files=[f for f in os.listdir(sgms_path) if \"image\" in f]\n",
    "\n",
    "print(len(sgm_files))\n",
    "sgm_files[:5]"
   ]
  },
  {
   "cell_type": "code",
   "execution_count": 5,
   "metadata": {},
   "outputs": [
    {
     "data": {
      "text/plain": [
       "dict_keys(['__header__', '__version__', '__globals__', 'imlist'])"
      ]
     },
     "execution_count": 5,
     "metadata": {},
     "output_type": "execute_result"
    }
   ],
   "source": [
    "mat = scipy.io.loadmat('data/trimaps/imlist.mat')\n",
    "mat.keys()"
   ]
  },
  {
   "cell_type": "code",
   "execution_count": 6,
   "metadata": {},
   "outputs": [
    {
     "name": "stdout",
     "output_type": "stream",
     "text": [
      "b'MATLAB 5.0 MAT-file, Platform: GLNX86, Created on: Sun Apr 29 00:19:15 2007'\n",
      "1.0\n",
      "[]\n",
      "753\n"
     ]
    }
   ],
   "source": [
    "print(mat[\"__header__\"])\n",
    "print(mat[\"__version__\"])\n",
    "print(mat[\"__globals__\"])\n",
    "print(len(mat[\"imlist\"][0]))\n",
    "\n",
    "imlist=list(mat[\"imlist\"][0])\n"
   ]
  },
  {
   "cell_type": "code",
   "execution_count": 7,
   "metadata": {},
   "outputs": [
    {
     "data": {
      "text/plain": [
       "1"
      ]
     },
     "execution_count": 7,
     "metadata": {},
     "output_type": "execute_result"
    }
   ],
   "source": [
    "def get_image_id(file_name):\n",
    "    no_extension=file_name.split(\".\")[0]\n",
    "    image_id=no_extension.split(\"_\")[1]\n",
    "    return int(image_id)\n",
    "\n",
    "get_image_id(\"image_0001.jpg\")"
   ]
  },
  {
   "cell_type": "markdown",
   "metadata": {},
   "source": [
    "Relations of these sets:"
   ]
  },
  {
   "cell_type": "code",
   "execution_count": 8,
   "metadata": {},
   "outputs": [
    {
     "name": "stdout",
     "output_type": "stream",
     "text": [
      "0\n",
      "0\n",
      "0\n",
      "95\n"
     ]
    }
   ],
   "source": [
    "file_names_set = set([get_image_id(f) for f in file_names])\n",
    "imlist_set = set(imlist)\n",
    "sgm_files_set = set([get_image_id(f) for f in sgm_files])\n",
    "\n",
    "print(len(imlist_set.difference(file_names_set)))\n",
    "print(len(sgm_files_set.difference(file_names_set)))\n",
    "print(len(imlist_set.difference(sgm_files_set)))\n",
    "print(len(sgm_files_set.difference(imlist_set)))\n",
    "\n"
   ]
  },
  {
   "cell_type": "markdown",
   "metadata": {},
   "source": [
    "The datasplits used in this paper are specified in datasplits.mat\n",
    "\n",
    "There are 3 separate splits. The results in the paper are averaged over the 3 splits.\n",
    "Each split has a training file (trn1,trn2,trn3), a validation file (val1, val2, val3)\n",
    "and a testfile (tst1, tst2 or tst3). "
   ]
  },
  {
   "cell_type": "code",
   "execution_count": 9,
   "metadata": {},
   "outputs": [
    {
     "data": {
      "text/plain": [
       "dict_keys(['__header__', '__version__', '__globals__', 'trn1', 'trn2', 'trn3', 'tst1', 'tst2', 'tst3', 'val3', 'val2', 'val1'])"
      ]
     },
     "execution_count": 9,
     "metadata": {},
     "output_type": "execute_result"
    }
   ],
   "source": [
    "datasplits = scipy.io.loadmat('data/datasplits.mat')\n",
    "datasplits.keys()"
   ]
  },
  {
   "cell_type": "code",
   "execution_count": 10,
   "metadata": {},
   "outputs": [
    {
     "name": "stdout",
     "output_type": "stream",
     "text": [
      "trn1: (1, 680)\n",
      "trn2: (1, 680)\n",
      "trn3: (1, 680)\n",
      "tst1: (1, 340)\n",
      "tst2: (1, 340)\n",
      "tst3: (1, 340)\n",
      "val3: (1, 340)\n",
      "val2: (1, 340)\n",
      "val1: (1, 340)\n"
     ]
    }
   ],
   "source": [
    "keys=['trn1', 'trn2', 'trn3', 'tst1', 'tst2', 'tst3', 'val3', 'val2', 'val1']\n",
    "\n",
    "for key in keys:\n",
    "    print(f\"{key}: {datasplits[key].shape}\")"
   ]
  },
  {
   "cell_type": "markdown",
   "metadata": {},
   "source": [
    "## Goal:\n",
    "\n",
    "\"Your task is to train a quick proof of concept model verifying the feasibility of detecting flower species in images coming from this dataset\"\n",
    "\n",
    "For this task no validation split is needed, since the test loss shows the generalization of the model. Also, we can merge all these sets in one big train set and another smaller test set."
   ]
  },
  {
   "cell_type": "code",
   "execution_count": 11,
   "metadata": {},
   "outputs": [
    {
     "name": "stdout",
     "output_type": "stream",
     "text": [
      " The number of segmentations: 848\n",
      "Size of train set 678\n",
      "Size of test set 170\n"
     ]
    }
   ],
   "source": [
    "N=len(sgm_files_set)\n",
    "print (f\" The number of segmentations: {N}\")\n",
    "\n",
    "RATIO=0.8\n",
    "\n",
    "data=list(sgm_files_set)\n",
    "random.shuffle(data)\n",
    "\n",
    "train_data = data[:int(RATIO*N)]\n",
    "test_data = data[int(RATIO*N):]\n",
    "\n",
    "print(f\"Size of train set {len(train_data)}\")\n",
    "print(f\"Size of test set {len(test_data)}\")\n"
   ]
  },
  {
   "cell_type": "markdown",
   "metadata": {},
   "source": [
    "Saving the shuffled train and test sets"
   ]
  },
  {
   "cell_type": "code",
   "execution_count": 12,
   "metadata": {},
   "outputs": [],
   "source": [
    "with open(\"data/train_set.json\",\"w\") as f:\n",
    "    json.dump(train_data, f)\n",
    "\n",
    "with open(\"data/test_set.json\",\"w\") as f:\n",
    "    json.dump(test_data, f)"
   ]
  },
  {
   "cell_type": "markdown",
   "metadata": {},
   "source": [
    "## Exploring instances"
   ]
  },
  {
   "cell_type": "code",
   "execution_count": 13,
   "metadata": {},
   "outputs": [],
   "source": [
    "def read_images(image_id, plot=False):\n",
    "    image_name=f\"image_{image_id:04}.jpg\"\n",
    "    img=mpimg.imread(f\"data/jpg/{image_name}\")\n",
    "\n",
    "    sgm_name=f\"image_{image_id:04}.png\"\n",
    "    sgm=mpimg.imread(f\"data/trimaps/{sgm_name}\")\n",
    "\n",
    "    if plot:\n",
    "        fig, ax = plt.subplots(1,2)\n",
    "        ax[0].imshow(img)\n",
    "        ax[1].imshow(sgm)\n",
    "\n",
    "    return img, sgm\n",
    "    \n",
    "    "
   ]
  },
  {
   "cell_type": "code",
   "execution_count": 42,
   "metadata": {},
   "outputs": [
    {
     "data": {
      "image/png": "[encoded data removed]",
      "text/plain": [
       "<Figure size 432x288 with 2 Axes>"
      ]
     },
     "metadata": {
      "needs_background": "light"
     },
     "output_type": "display_data"
    }
   ],
   "source": [
    "img, sgm= read_images(5, plot=True)"
   ]
  },
  {
   "cell_type": "code",
   "execution_count": 43,
   "metadata": {},
   "outputs": [
    {
     "name": "stdout",
     "output_type": "stream",
     "text": [
      "(500, 749, 3)\n",
      "(500, 749, 4)\n"
     ]
    }
   ],
   "source": [
    "print(img.shape)\n",
    "print(sgm.shape)\n"
   ]
  },
  {
   "cell_type": "code",
   "execution_count": 44,
   "metadata": {},
   "outputs": [
    {
     "name": "stdout",
     "output_type": "stream",
     "text": [
      "Yellow: [0.5019608 0.5019608 0.        1.       ]\n",
      "Red: [0.5019608 0.        0.        1.       ]\n",
      "Black: [0. 0. 0. 1.]\n"
     ]
    }
   ],
   "source": [
    "print(f\"Yellow: {sgm[150,650,:]}\")\n",
    "print(f\"Red: {sgm[200,200,:]}\")\n",
    "print(f\"Black: {sgm[150,500,:]}\")\n",
    "\n",
    "red_rgb=sgm[200,200,:]\n",
    "yellow_rgb=sgm[150,650,:]\n"
   ]
  },
  {
   "cell_type": "markdown",
   "metadata": {},
   "source": [
    "Segmentation data is four dimensional, but the last one is always "
   ]
  },
  {
   "cell_type": "code",
   "execution_count": 17,
   "metadata": {},
   "outputs": [
    {
     "data": {
      "text/plain": [
       "0.5019608"
      ]
     },
     "execution_count": 17,
     "metadata": {},
     "output_type": "execute_result"
    }
   ],
   "source": [
    "sgm[200,200,0]"
   ]
  },
  {
   "cell_type": "code",
   "execution_count": 18,
   "metadata": {},
   "outputs": [
    {
     "name": "stdout",
     "output_type": "stream",
     "text": [
      "1.0\n",
      "1.0\n"
     ]
    }
   ],
   "source": [
    "print(min(sgm[...,3].flatten()))\n",
    "print(max(sgm[...,3].flatten()))"
   ]
  },
  {
   "cell_type": "code",
   "execution_count": 138,
   "metadata": {},
   "outputs": [],
   "source": [
    "def binarize_sgm(sgm):\n",
    "    binarized_sgm=np.apply_along_axis(lambda x: int(np.array_equal(x, np.array(red_rgb, dtype=np.float32))), axis=2, arr=sgm)\n",
    "    return binarized_sgm"
   ]
  },
  {
   "cell_type": "code",
   "execution_count": 49,
   "metadata": {},
   "outputs": [],
   "source": [
    "def read_images_with_binarization(image_id, plot=False):\n",
    "    image_name=f\"image_{image_id:04}.jpg\"\n",
    "    img=mpimg.imread(f\"data/jpg/{image_name}\")\n",
    "\n",
    "    sgm_name=f\"image_{image_id:04}.png\"\n",
    "    sgm=mpimg.imread(f\"data/trimaps/{sgm_name}\")\n",
    "\n",
    "    binarized_sgm=binarize_sgm(sgm)\n",
    "\n",
    "    if plot:\n",
    "        fig, ax = plt.subplots(1,3)\n",
    "        ax[0].imshow(img)\n",
    "        ax[1].imshow(sgm)\n",
    "        ax[2].imshow(binarized_sgm)\n",
    "\n",
    "    return img, sgm, binarized_sgm\n",
    "    "
   ]
  },
  {
   "cell_type": "code",
   "execution_count": 144,
   "metadata": {},
   "outputs": [
    {
     "data": {
      "image/png": "[encoded data removed]",
      "text/plain": [
       "<Figure size 432x288 with 3 Axes>"
      ]
     },
     "metadata": {
      "needs_background": "light"
     },
     "output_type": "display_data"
    }
   ],
   "source": [
    "img, sgm, binarized_sgm= read_images_with_binarization(7,plot=True)"
   ]
  },
  {
   "cell_type": "markdown",
   "metadata": {},
   "source": [
    "Saving binarized segmentations, to lower preprocess time"
   ]
  },
  {
   "cell_type": "code",
   "execution_count": 143,
   "metadata": {},
   "outputs": [
    {
     "name": "stderr",
     "output_type": "stream",
     "text": [
      "  0%|          | 0/848 [00:00<?, ?it/s]/var/folders/j0/y36t88xs5z1fb7hd9lzv0qt00000gn/T/ipykernel_44312/28760512.py:5: DeprecationWarning: `np.bool` is a deprecated alias for the builtin `bool`. To silence this warning, use `bool` by itself. Doing this will not modify any behavior and is safe. If you specifically wanted the numpy scalar type, use `np.bool_` here.\n",
      "Deprecated in NumPy 1.20; for more details and guidance: https://numpy.org/devdocs/release/1.20.0-notes.html#deprecations\n",
      "  binarized_sgm_PIL=PIL.Image.fromarray(binarized_sgm.astype(np.bool))\n",
      "100%|██████████| 848/848 [28:26<00:00,  2.01s/it]\n"
     ]
    }
   ],
   "source": [
    "import PIL\n",
    "\n",
    "for sgm_id in tqdm.tqdm(sgm_files_set):\n",
    "    img, sgm, binarized_sgm= read_images_with_binarization(sgm_id)\n",
    "    binarized_sgm_PIL=PIL.Image.fromarray(binarized_sgm.astype(np.bool))\n",
    "    binarized_sgm_PIL.save(f\"data/segmentations/image_{sgm_id:04}.png\")\n",
    "    "
   ]
  }
 ],
 "metadata": {
  "interpreter": {
   "hash": "8e7a5f35c3e4131705d67ab85c075e54037221910c00504d18a84289cd36e17d"
  },
  "kernelspec": {
   "display_name": "Python 3.9.7 ('tf_sb')",
   "language": "python",
   "name": "python3"
  },
  "language_info": {
   "codemirror_mode": {
    "name": "ipython",
    "version": 3
   },
   "file_extension": ".py",
   "mimetype": "text/x-python",
   "name": "python",
   "nbconvert_exporter": "python",
   "pygments_lexer": "ipython3",
   "version": "3.9.7"
  },
  "orig_nbformat": 4
 },
 "nbformat": 4,
 "nbformat_minor": 2
}
